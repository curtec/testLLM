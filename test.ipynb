{
 "cells": [
  {
   "cell_type": "code",
   "execution_count": null,
   "metadata": {},
   "outputs": [],
   "source": [
    "from transformers import pipeline"
   ]
  },
  {
   "cell_type": "code",
   "execution_count": null,
   "metadata": {},
   "outputs": [],
   "source": [
    "pipe=pipeline('question-answering')"
   ]
  },
  {
   "cell_type": "code",
   "execution_count": 25,
   "metadata": {},
   "outputs": [
    {
     "data": {
      "text/plain": [
       "{'score': 0.2673106789588928,\n",
       " 'start': 263,\n",
       " 'end': 275,\n",
       " 'answer': 'online tools'}"
      ]
     },
     "execution_count": 25,
     "metadata": {},
     "output_type": "execute_result"
    }
   ],
   "source": [
    "pipe(context='Members of the team are separated by distance, family and work commitments and time zones which need to be addressed from the beginning to ensure that all members have not only an opportunity to contribute but also feel like a full member of the team. The use of online tools such as MS Teams and careful consideration when planning meetings can significantly reduce the possible harm to the project. It is also important to understand that the members of the team come with a diverse set of technical skills and experiences that need to be utilized to gain the greatest advantage for the overall project while ensuring that other members do not feel as though their contributions are less valued and begin to reduce their involvement in the project. ', question='how could we reduce harm, name 2')"
   ]
  }
 ],
 "metadata": {
  "kernelspec": {
   "display_name": "venv",
   "language": "python",
   "name": "python3"
  },
  "language_info": {
   "codemirror_mode": {
    "name": "ipython",
    "version": 3
   },
   "file_extension": ".py",
   "mimetype": "text/x-python",
   "name": "python",
   "nbconvert_exporter": "python",
   "pygments_lexer": "ipython3",
   "version": "3.11.3"
  }
 },
 "nbformat": 4,
 "nbformat_minor": 2
}
